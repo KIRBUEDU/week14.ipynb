{
 "cells": [
  {
   "cell_type": "code",
   "execution_count": 2,
   "id": "aad0b727",
   "metadata": {},
   "outputs": [
    {
     "name": "stdout",
     "output_type": "stream",
     "text": [
      "IV estimate: 4.411198066650869\n"
     ]
    },
    {
     "name": "stderr",
     "output_type": "stream",
     "text": [
      "/tmp/ipykernel_6408/271473525.py:13: FutureWarning: Series.__getitem__ treating keys as positions is deprecated. In a future version, integer keys will always be treated as labels (consistent with DataFrame behavior). To access a value by position, use `ser.iloc[pos]`\n",
      "  print(\"IV estimate:\", second_stage.params[1])\n"
     ]
    }
   ],
   "source": [
    "import pandas as pd\n",
    "import statsmodels.api as sm\n",
    "\n",
    "# Load data\n",
    "df = pd.read_csv(\"homework_13.1.csv\")\n",
    "\n",
    "# First stage: Predict X from Z (instrument)\n",
    "first_stage = sm.OLS(df[\"X\"], sm.add_constant(df[\"Z\"])).fit()\n",
    "df[\"X_hat\"] = first_stage.predict(sm.add_constant(df[\"Z\"]))\n",
    "\n",
    "# Second stage: Predict Z from predicted X\n",
    "second_stage = sm.OLS(df[\"Z\"], sm.add_constant(df[\"X_hat\"])).fit()\n",
    "print(\"IV estimate:\", second_stage.params[1])\n"
   ]
  },
  {
   "cell_type": "code",
   "execution_count": 3,
   "id": "38d3aeb7",
   "metadata": {},
   "outputs": [
    {
     "name": "stdout",
     "output_type": "stream",
     "text": [
      "IV estimate: 4.411198066650855\n"
     ]
    }
   ],
   "source": [
    "import pandas as pd\n",
    "\n",
    "df = pd.read_csv(\"homework_13.1.csv\")\n",
    "\n",
    "num = ((df[\"Z\"] - df[\"Z\"].mean()) * (df[\"Z\"] - df[\"Z\"].mean())).mean()\n",
    "den = ((df[\"Z\"] - df[\"Z\"].mean()) * (df[\"X\"] - df[\"X\"].mean())).mean()\n",
    "\n",
    "iv_estimate = num / den\n",
    "print(\"IV estimate:\", iv_estimate)"
   ]
  },
  {
   "cell_type": "code",
   "execution_count": 4,
   "id": "a91c996a",
   "metadata": {},
   "outputs": [
    {
     "name": "stdout",
     "output_type": "stream",
     "text": [
      "2SLS estimate: -2.502618970813032\n"
     ]
    },
    {
     "name": "stderr",
     "output_type": "stream",
     "text": [
      "/tmp/ipykernel_6408/813711500.py:9: FutureWarning: Series.__getitem__ treating keys as positions is deprecated. In a future version, integer keys will always be treated as labels (consistent with DataFrame behavior). To access a value by position, use `ser.iloc[pos]`\n",
      "  print(\"2SLS estimate:\", second_stage.params[1])\n"
     ]
    }
   ],
   "source": [
    "df2 = pd.read_csv(\"homework_13.2.csv\")\n",
    "\n",
    "# First stage: Predict X2 from Z2\n",
    "first_stage = sm.OLS(df2[\"X2\"], sm.add_constant(df2[\"Z2\"])).fit()\n",
    "df2[\"X2_hat\"] = first_stage.predict(sm.add_constant(df2[\"Z2\"]))\n",
    "\n",
    "# Second stage: Predict Y2 from predicted X2\n",
    "second_stage = sm.OLS(df2[\"Y2\"], sm.add_constant(df2[\"X2_hat\"])).fit()\n",
    "print(\"2SLS estimate:\", second_stage.params[1])"
   ]
  },
  {
   "cell_type": "code",
   "execution_count": 5,
   "id": "bd3f9b0b",
   "metadata": {},
   "outputs": [
    {
     "name": "stdout",
     "output_type": "stream",
     "text": [
      "                            OLS Regression Results                            \n",
      "==============================================================================\n",
      "Dep. Variable:                     X3   R-squared:                       0.749\n",
      "Model:                            OLS   Adj. R-squared:                  0.749\n",
      "Method:                 Least Squares   F-statistic:                     9943.\n",
      "Date:                Wed, 06 Aug 2025   Prob (F-statistic):               0.00\n",
      "Time:                        08:05:51   Log-Likelihood:                -14211.\n",
      "No. Observations:               10000   AIC:                         2.843e+04\n",
      "Df Residuals:                    9996   BIC:                         2.846e+04\n",
      "Df Model:                           3                                         \n",
      "Covariance Type:            nonrobust                                         \n",
      "==============================================================================\n",
      "                 coef    std err          t      P>|t|      [0.025      0.975]\n",
      "------------------------------------------------------------------------------\n",
      "const         -0.0005      0.010     -0.047      0.962      -0.020       0.019\n",
      "Z3             1.0115      0.010     99.749      0.000       0.992       1.031\n",
      "W3             0.9934      0.010     99.467      0.000       0.974       1.013\n",
      "ZW_int        -0.9969      0.010    -98.954      0.000      -1.017      -0.977\n",
      "==============================================================================\n",
      "Omnibus:                        4.128   Durbin-Watson:                   1.989\n",
      "Prob(Omnibus):                  0.127   Jarque-Bera (JB):                4.127\n",
      "Skew:                           0.050   Prob(JB):                        0.127\n",
      "Kurtosis:                       2.999   Cond. No.                         1.07\n",
      "==============================================================================\n",
      "\n",
      "Notes:\n",
      "[1] Standard Errors assume that the covariance matrix of the errors is correctly specified.\n"
     ]
    }
   ],
   "source": [
    "df3 = pd.read_csv(\"homework_13.3.csv\")\n",
    "\n",
    "# Fit a linear regression model\n",
    "model = sm.OLS(df3[\"X3\"], sm.add_constant(df3[[\"Z3\", \"W3\", \"ZW_int\"]])).fit()\n",
    "print(model.summary())"
   ]
  },
  {
   "cell_type": "code",
   "execution_count": 13,
   "id": "05c0f567",
   "metadata": {},
   "outputs": [],
   "source": [
    "import numpy as np\n",
    "\n",
    "# Step 1: Simulate the data\n",
    "num = 10000  # make sure it's an integer\n",
    "Z4 = np.random.normal(0, 1, num)\n",
    "W4 = np.random.normal(0, 1, num)\n",
    "ZW_int = W4 * Z4\n",
    "\n",
    "X4 = Z4 + W4 - 2 * ZW_int + np.random.normal(0, 1, num)\n",
    "Y4 = W4 + X4 - Z4 + np.random.normal(0, 1, num)\n",
    "\n",
    "\n"
   ]
  },
  {
   "cell_type": "code",
   "execution_count": 14,
   "id": "929474aa",
   "metadata": {},
   "outputs": [
    {
     "name": "stdout",
     "output_type": "stream",
     "text": [
      "                            OLS Regression Results                            \n",
      "==============================================================================\n",
      "Dep. Variable:                     Y4   R-squared:                       0.901\n",
      "Model:                            OLS   Adj. R-squared:                  0.901\n",
      "Method:                 Least Squares   F-statistic:                 3.030e+04\n",
      "Date:                Wed, 06 Aug 2025   Prob (F-statistic):               0.00\n",
      "Time:                        08:21:11   Log-Likelihood:                -14165.\n",
      "No. Observations:               10000   AIC:                         2.834e+04\n",
      "Df Residuals:                    9996   BIC:                         2.837e+04\n",
      "Df Model:                           3                                         \n",
      "Covariance Type:            nonrobust                                         \n",
      "==============================================================================\n",
      "                 coef    std err          t      P>|t|      [0.025      0.975]\n",
      "------------------------------------------------------------------------------\n",
      "const         -0.0002      0.010     -0.017      0.986      -0.020       0.019\n",
      "X4             1.0025      0.004    225.090      0.000       0.994       1.011\n",
      "W4             0.9891      0.011     90.154      0.000       0.968       1.011\n",
      "Z4            -1.0033      0.011    -90.969      0.000      -1.025      -0.982\n",
      "==============================================================================\n",
      "Omnibus:                        0.707   Durbin-Watson:                   1.986\n",
      "Prob(Omnibus):                  0.702   Jarque-Bera (JB):                0.671\n",
      "Skew:                           0.012   Prob(JB):                        0.715\n",
      "Kurtosis:                       3.031   Cond. No.                         3.34\n",
      "==============================================================================\n",
      "\n",
      "Notes:\n",
      "[1] Standard Errors assume that the covariance matrix of the errors is correctly specified.\n"
     ]
    }
   ],
   "source": [
    "import numpy as np\n",
    "import pandas as pd\n",
    "import statsmodels.api as sm\n",
    "\n",
    "# Step 0: Simulate the data\n",
    "num = 10000\n",
    "Z4 = np.random.normal(0, 1, num)\n",
    "W4 = np.random.normal(0, 1, num)\n",
    "ZW_int = W4 * Z4\n",
    "\n",
    "X4 = Z4 + W4 - 2 * ZW_int + np.random.normal(0, 1, num)\n",
    "Y4 = W4 + X4 - Z4 + np.random.normal(0, 1, num)\n",
    "\n",
    "# Step 1: Regression to test exclusion restriction\n",
    "# Does Z4 still affect Y4 after controlling for X4 and W4?\n",
    "df = pd.DataFrame({'Y4': Y4, 'X4': X4, 'W4': W4, 'Z4': Z4})\n",
    "model = sm.OLS(df['Y4'], sm.add_constant(df[['X4','W4','Z4']])).fit()\n",
    "print(model.summary())"
   ]
  }
 ],
 "metadata": {
  "kernelspec": {
   "display_name": "Python 3",
   "language": "python",
   "name": "python3"
  },
  "language_info": {
   "codemirror_mode": {
    "name": "ipython",
    "version": 3
   },
   "file_extension": ".py",
   "mimetype": "text/x-python",
   "name": "python",
   "nbconvert_exporter": "python",
   "pygments_lexer": "ipython3",
   "version": "3.12.1"
  }
 },
 "nbformat": 4,
 "nbformat_minor": 5
}
